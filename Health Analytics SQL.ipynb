{
 "cells": [
  {
   "cell_type": "code",
   "execution_count": null,
   "metadata": {},
   "outputs": [],
   "source": [
    "# Importing libraries and establishing connection \n",
    "import sqlite3\n",
    "connection = sqlite3.connect('my_database.db')\n",
    "cursor = connection.cursor()"
   ]
  },
  {
   "cell_type": "code",
   "execution_count": null,
   "metadata": {
    "id": "NJ-vVDB_3F2y"
   },
   "outputs": [],
   "source": [
    "# Gender-based counts and percentages along with average obsession scores:\n",
    "sql_query = \"\"\"SELECT\n",
    "    Gender,\n",
    "    COUNT(`Patient ID`) as patient_count,\n",
    "    ROUND(AVG(`Y-BOCS Score (Obsessions)`), 2) as avg_obs_score,\n",
    "    ROUND(\n",
    "        COUNT(`Patient ID`) * 100.0 / SUM(COUNT(`Patient ID`)) OVER (),\n",
    "        2\n",
    "    ) as pct\n",
    "FROM health_data.ocd_patient_dataset\n",
    "GROUP BY Gender\n",
    "ORDER BY patient_count;\"\"\""
   ]
  },
  {
   "cell_type": "code",
   "execution_count": null,
   "metadata": {},
   "outputs": [],
   "source": [
    "cursor.execute(sql_query)\n",
    "results = cursor.fetchall()\n",
    "for row in results:\n",
    "    print(row)"
   ]
  },
  {
   "cell_type": "code",
   "execution_count": null,
   "metadata": {},
   "outputs": [],
   "source": [
    "# Count of patients by ethnicity and their average obsession score:\n",
    "sql_query = \"\"\"SELECT\n",
    "    Ethnicity,\n",
    "    COUNT(`Patient ID`) as patient_count,\n",
    "    ROUND(AVG(`Y-BOCS Score (Obsessions)`), 2) as avg_obs_score\n",
    "FROM health_data.ocd_patient_dataset\n",
    "GROUP BY Ethnicity\n",
    "ORDER BY patient_count;\"\"\""
   ]
  },
  {
   "cell_type": "code",
   "execution_count": null,
   "metadata": {},
   "outputs": [],
   "source": [
    "cursor.execute(sql_query)\n",
    "results = cursor.fetchall()\n",
    "for row in results:\n",
    "    print(row)"
   ]
  },
  {
   "cell_type": "code",
   "execution_count": null,
   "metadata": {},
   "outputs": [],
   "source": [
    "# Monthly count of OCD diagnosis:\n",
    "sql_query = \"\"\"SELECT\n",
    "    DATE_FORMAT(`OCD Diagnosis Date`, '%Y-%m-01') as diagnosis_month,\n",
    "    COUNT(`Patient ID`) as patient_count\n",
    "FROM health_data.ocd_patient_dataset\n",
    "GROUP BY diagnosis_month\n",
    "ORDER BY diagnosis_month;\"\"\""
   ]
  },
  {
   "cell_type": "code",
   "execution_count": null,
   "metadata": {},
   "outputs": [],
   "source": [
    "cursor.execute(sql_query)\n",
    "results = cursor.fetchall()\n",
    "for row in results:\n",
    "    print(row)"
   ]
  },
  {
   "cell_type": "code",
   "execution_count": null,
   "metadata": {},
   "outputs": [],
   "source": [
    "# Most common obsession type with count and average obsession score:\n",
    "sql_query = \"\"\"SELECT\n",
    "    `Obsession Type`,\n",
    "    COUNT(`Patient ID`) as patient_count,\n",
    "    ROUND(AVG(`Y-BOCS Score (Obsessions)`), 2) as avg_obs_score\n",
    "FROM health_data.ocd_patient_dataset\n",
    "GROUP BY `Obsession Type`\n",
    "ORDER BY patient_count;\"\"\""
   ]
  },
  {
   "cell_type": "code",
   "execution_count": null,
   "metadata": {},
   "outputs": [],
   "source": [
    "cursor.execute(sql_query)\n",
    "results = cursor.fetchall()\n",
    "for row in results:\n",
    "    print(row)"
   ]
  },
  {
   "cell_type": "code",
   "execution_count": null,
   "metadata": {},
   "outputs": [],
   "source": [
    "# Most common compulsion type with count and average obsession score:\n",
    "sql_query = \"\"\"SELECT\n",
    "    `Compulsion Type`,\n",
    "    COUNT(`Patient ID`) as patient_count,\n",
    "    ROUND(AVG(`Y-BOCS Score (Obsessions)`), 2) as avg_obs_score\n",
    "FROM health_data.ocd_patient_dataset\n",
    "GROUP BY `Compulsion Type`\n",
    "ORDER BY patient_count;\"\"\""
   ]
  },
  {
   "cell_type": "code",
   "execution_count": null,
   "metadata": {},
   "outputs": [],
   "source": [
    "cursor.execute(sql_query)\n",
    "results = cursor.fetchall()\n",
    "for row in results:\n",
    "    print(row)"
   ]
  },
  {
   "cell_type": "code",
   "execution_count": null,
   "metadata": {},
   "outputs": [],
   "source": [
    "# Close the connection\n",
    "cursor.close()\n",
    "connection.close()"
   ]
  }
 ],
 "metadata": {
  "colab": {
   "provenance": []
  },
  "kernelspec": {
   "display_name": "Python 3 (ipykernel)",
   "language": "python",
   "name": "python3"
  },
  "language_info": {
   "codemirror_mode": {
    "name": "ipython",
    "version": 3
   },
   "file_extension": ".py",
   "mimetype": "text/x-python",
   "name": "python",
   "nbconvert_exporter": "python",
   "pygments_lexer": "ipython3",
   "version": "3.9.12"
  }
 },
 "nbformat": 4,
 "nbformat_minor": 1
}
